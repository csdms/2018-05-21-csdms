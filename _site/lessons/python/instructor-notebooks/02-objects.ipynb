{
 "cells": [
  {
   "cell_type": "markdown",
   "metadata": {},
   "source": [
    "# Python objects\n",
    "\n",
    "Before we go much further into numerical modeling, we should stop and discuss some of the inner workings of Python. Recognizing the way values can be handled by Python will give you flexibility in programming and help you avoid common errors.\n",
    "\n",
    "Early in the previous lesson, we saw that we could assign a value to a variable using the symbol <code>=</code>:"
   ]
  },
  {
   "cell_type": "code",
   "execution_count": 1,
   "metadata": {
    "collapsed": true
   },
   "outputs": [],
   "source": [
    "elevation_ft = 5430 # elevation of Boulder, CO in feet "
   ]
  },
  {
   "cell_type": "markdown",
   "metadata": {},
   "source": [
    "#callout\n",
    "Documentation is important!\n",
    "\n",
    "One way to include documentation in your programs is with comments. Comments are text within the code that the computer ignores. In Python, comments start with the symbol <code>#</code>."
   ]
  },
  {
   "cell_type": "markdown",
   "metadata": {},
   "source": [
    "The variable name <code>elevation_ft</code> is not itself the value 5430. It is simply a label that points to a place in the memory where the **object** with the value <code>5430</code> is stored.\n",
    "\n",
    "This is different from the way the symbol = is used in algebra. An equation like this one represents different things in Python and in algebra:"
   ]
  },
  {
   "cell_type": "code",
   "execution_count": 23,
   "metadata": {
    "collapsed": true
   },
   "outputs": [],
   "source": [
    "x = 4 + 1"
   ]
  },
  {
   "cell_type": "markdown",
   "metadata": {},
   "source": [
    "In both cases, the letter 'x' corresponds to the value 5. In algebra, 'x' is equivalent to 5; the symbol is simply taking the place of the number. In Python, 'x' is not itself 5; it is a name that points to an object with a value of 5. The variable name 'x' is short-hand for the address where the object is stored in the memory."
   ]
  },
  {
   "cell_type": "markdown",
   "metadata": {},
   "source": [
    "#callout\n",
    "## What is an object?\n",
    "\n",
    "We can think of objects as the things that Python programs manipulate.\n",
    "\n",
    "Different programming languages define \"object\" in different ways. *Everything in Python is an object* and almost everything has attributes and methods. Strings are objects. Lists are objects. Functions are objects. Even modules are objects."
   ]
  },
  {
   "cell_type": "markdown",
   "metadata": {},
   "source": [
    "Objects are classified into different **classes** or **data types** that define the kinds of things that a program can do with those objects. An integer (like <code>5430</code> above) is one type of object, the string \"Hello, World!\" is also an object, and the *numpy array* of elevation values in the previous lesson was another type of object."
   ]
  },
  {
   "cell_type": "markdown",
   "metadata": {},
   "source": [
    "### Integers\n",
    "\n",
    "We can use the built-in function <code>type</code> to see what type a particular object is:"
   ]
  },
  {
   "cell_type": "code",
   "execution_count": 3,
   "metadata": {},
   "outputs": [
    {
     "data": {
      "text/plain": [
       "int"
      ]
     },
     "execution_count": 3,
     "metadata": {},
     "output_type": "execute_result"
    }
   ],
   "source": [
    "type(5430)"
   ]
  },
  {
   "cell_type": "markdown",
   "metadata": {},
   "source": [
    "The number <code>5430</code> is an object of type **int**, or integer. We can also use <code>type</code> see the type of  object that the variable is assigned to:"
   ]
  },
  {
   "cell_type": "code",
   "execution_count": 4,
   "metadata": {},
   "outputs": [
    {
     "data": {
      "text/plain": [
       "int"
      ]
     },
     "execution_count": 4,
     "metadata": {},
     "output_type": "execute_result"
    }
   ],
   "source": [
    "type(elevation_ft)"
   ]
  },
  {
   "cell_type": "markdown",
   "metadata": {},
   "source": [
    "The variable <code>elevation_ft</code> is assigned to an object with the value <code>5430</code>, which is of type int. Integer is one of several built-in data types in Python. Because they are built in, we don’t need to load a library to use them.\n",
    "\n",
    "### Floats\n",
    "\n",
    "Real numbers (*potentially* with decimals) are floating point numbers or **floats**:"
   ]
  },
  {
   "cell_type": "code",
   "execution_count": 5,
   "metadata": {},
   "outputs": [
    {
     "data": {
      "text/plain": [
       "float"
      ]
     },
     "execution_count": 5,
     "metadata": {},
     "output_type": "execute_result"
    }
   ],
   "source": [
    "elevation_m = 1655.064 # elevation of Boulder, CO in meters\n",
    "\n",
    "type(elevation_m)"
   ]
  },
  {
   "cell_type": "markdown",
   "metadata": {},
   "source": [
    "#test\n",
    "What type of object are these values?\n",
    "\n",
    "- 5.6\n",
    "- 1932\n",
    "- 7.0000\n",
    "- 22.\n",
    "\n",
    "#solution\n",
    "- float\n",
    "- int\n",
    "- float\n",
    "- float"
   ]
  },
  {
   "cell_type": "markdown",
   "metadata": {},
   "source": [
    "#callout\n",
    "\n",
    "## Math with integers and floats\n",
    "\n",
    "One would expect that a programming language would follow the same rules of arithmatic that we learned as kids. Confusingly, that’s not always the case:"
   ]
  },
  {
   "cell_type": "code",
   "execution_count": 24,
   "metadata": {
    "scrolled": true
   },
   "outputs": [
    {
     "name": "stdout",
     "output_type": "stream",
     "text": [
      "7/2 = 3\n"
     ]
    }
   ],
   "source": [
    "print '7/2 =', 7/2"
   ]
  },
  {
   "cell_type": "markdown",
   "metadata": {},
   "source": [
    "In the real world, half of 7 is 3.5! Why is it behaving this way?\n",
    "\n",
    "In Python 2 (but not Python 3), dividing an integer (the number 7) by another integer (the number 2) always results in an integer. This is known as **integer division**. If either number is a float, though, division behaves as expected and returns a float:"
   ]
  },
  {
   "cell_type": "code",
   "execution_count": 25,
   "metadata": {},
   "outputs": [
    {
     "name": "stdout",
     "output_type": "stream",
     "text": [
      "7.0000000001/2 = 3.50000000005\n"
     ]
    }
   ],
   "source": [
    "print '7.0000000001/2 =', 7.0000000001/2"
   ]
  },
  {
   "cell_type": "markdown",
   "metadata": {},
   "source": [
    "While this might seem strange and unnecessarily annoying, some programming languages use integer division for historical reasons: integers take up less memory space and integer operations were much faster on early machines. By default, Python 3 does not use integer division.\n",
    "\n",
    "Adding a decimal point to a whole number makes it a float:"
   ]
  },
  {
   "cell_type": "code",
   "execution_count": 26,
   "metadata": {
    "scrolled": true
   },
   "outputs": [
    {
     "name": "stdout",
     "output_type": "stream",
     "text": [
      "7 is <type 'int'>\n",
      "--------------------\n",
      "7. is <type 'float'>\n",
      "7.0 is <type 'float'>\n"
     ]
    }
   ],
   "source": [
    "print '7 is', type(7)\n",
    "print '-' * 20\n",
    "print '7. is', type(7.)\n",
    "print '7.0 is', type(7.0)"
   ]
  },
  {
   "cell_type": "markdown",
   "metadata": {},
   "source": [
    "We can also convert between types through **casting** (we'll look at this again later). To convert an integer into a float, use the function **float()**:"
   ]
  },
  {
   "cell_type": "code",
   "execution_count": 35,
   "metadata": {},
   "outputs": [
    {
     "name": "stdout",
     "output_type": "stream",
     "text": [
      "integer division: 3\n",
      "after casting: 3.5\n"
     ]
    }
   ],
   "source": [
    "num_int = 7\n",
    "\n",
    "print 'integer division:', num_int / 2\n",
    "print 'after casting:', float(num_int) / 2"
   ]
  },
  {
   "cell_type": "markdown",
   "metadata": {},
   "source": [
    "### Booleans\n",
    "\n",
    "Other types of objects in Python are a bit more unusual. **Boolean** objects can take one of two values: False or True. We will see in a later lesson that boolean objects are produced by operations that compare values against one another and by conditional statements.\n",
    "\n",
    "You'll notice that the words True and False change color when you type them into a Jupyter Notebook. They look different because they are recognized as special keywords. This only works when True and False are capitalized, though! Python does not treat lower case true and false as boolean objects."
   ]
  },
  {
   "cell_type": "code",
   "execution_count": 6,
   "metadata": {},
   "outputs": [
    {
     "data": {
      "text/plain": [
       "bool"
      ]
     },
     "execution_count": 6,
     "metadata": {},
     "output_type": "execute_result"
    }
   ],
   "source": [
    "i_like_chocolate = True\n",
    "type(i_like_chocolate)"
   ]
  },
  {
   "cell_type": "markdown",
   "metadata": {},
   "source": [
    "When used in an arithmetic operation, a boolean object acts like an integer of value 0 or 1, respectively:"
   ]
  },
  {
   "cell_type": "code",
   "execution_count": 7,
   "metadata": {},
   "outputs": [
    {
     "name": "stdout",
     "output_type": "stream",
     "text": [
      "3\n",
      "3.0\n",
      "0.0\n"
     ]
    }
   ],
   "source": [
    "print 3 * True\n",
    "print 3.0 * True\n",
    "print 3.0 * False"
   ]
  },
  {
   "cell_type": "markdown",
   "metadata": {},
   "source": [
    "### NoneType\n",
    "\n",
    "The most abstract of object types in Python is the **NoneType**. NoneType objects can only contain the special constant **None**. <code>None</code> is the value that an object takes when no value is set or in the absence of a value. <code>None</code> is a null or NoData value. It is not the same as False, it is not 0 and it is not an empty string. <code>None</code> is nothing.\n",
    "\n",
    "If you compare <code>None</code> to anything other than <code>None</code>, <code>None</code> will always be less than the other value (In Python 3, comparing <code>None</code> to another object will instead produce an error):"
   ]
  },
  {
   "cell_type": "code",
   "execution_count": 8,
   "metadata": {},
   "outputs": [
    {
     "name": "stdout",
     "output_type": "stream",
     "text": [
      "<type 'NoneType'>\n",
      "False\n",
      "True\n"
     ]
    }
   ],
   "source": [
    "nothing = None\n",
    "print type(nothing)\n",
    "\n",
    "print nothing > -4\n",
    "print nothing == nothing # single = assigns variables, double == compares for equivalency"
   ]
  },
  {
   "cell_type": "markdown",
   "metadata": {},
   "source": [
    "Why would you ever want to create an object that contains nothing at all? As you build more complex programs, you'll find many situations where you might want to set a variable but don't want to assign a value to it quite yet. For example, you might want your code to perform one action if the user sets a certain variable but perform a different action if the user does nothing:"
   ]
  },
  {
   "cell_type": "code",
   "execution_count": 9,
   "metadata": {},
   "outputs": [
    {
     "name": "stdout",
     "output_type": "stream",
     "text": [
      "The user hasn't said anything!\n"
     ]
    }
   ],
   "source": [
    "input_from_user = None\n",
    "\n",
    "## The user might or might not provide input here.\n",
    "## If the user provides input, the value would get assigned to the variable input_from_user\n",
    "\n",
    "if input_from_user is None:\n",
    "    print \"The user hasn't said anything!\"\n",
    "    \n",
    "if input_from_user is not None:\n",
    "    print \"The user said:\", input_from_user"
   ]
  },
  {
   "cell_type": "markdown",
   "metadata": {},
   "source": [
    "#callout\n",
    "\n",
    "You can use the <code>whos</code> command to see what variables you have created and what modules you have loaded into the memory. This is an iPython command, so it will only work if you are in an iPython terminal or a Jupyter Notebook."
   ]
  },
  {
   "cell_type": "code",
   "execution_count": 10,
   "metadata": {},
   "outputs": [
    {
     "name": "stdout",
     "output_type": "stream",
     "text": [
      "Variable           Type        Data/Info\n",
      "----------------------------------------\n",
      "elevation_ft       int         5430\n",
      "elevation_m        float       1655.064\n",
      "i_like_chocolate   bool        True\n",
      "input_from_user    NoneType    None\n",
      "nothing            NoneType    None\n",
      "x                  int         5\n"
     ]
    }
   ],
   "source": [
    "whos"
   ]
  },
  {
   "cell_type": "markdown",
   "metadata": {},
   "source": [
    "## Sequences\n",
    "\n",
    "There are several built-in object types in Python for storing multiple values in an organized structure. We can use **indexing** to extract individual values from **sequences** and **slicing** to extract sections with multiple values.\n",
    "\n",
    "### Strings\n",
    "\n",
    "Objects of type **string** are simply sequences of characters with a defined order. Strings have to be enclosed in sigle quotes (' '), double quotes (\" \"), triple single or double quotes (''' ''', \"\"\" \"\"\"), or single quotes within double quotes (\"' '\"):"
   ]
  },
  {
   "cell_type": "code",
   "execution_count": 11,
   "metadata": {},
   "outputs": [
    {
     "name": "stdout",
     "output_type": "stream",
     "text": [
      "<type 'str'>\n"
     ]
    }
   ],
   "source": [
    "print type(\"The judge said 'Nobody expects the Spanish Inquisition!'\")"
   ]
  },
  {
   "cell_type": "markdown",
   "metadata": {},
   "source": [
    "### Lists\n",
    "\n",
    "A **list** is exactly what it sounds like – a sequence of things. The objects contained in a list don’t have to be of the same type: one list can simultaneously contain numbers, strings, other lists, numpy arrays, and even commands to run. Like other sequences, lists are ordered. We can access the individual items in a list through an integer index.\n",
    "\n",
    "Lists are created by putting values, separated by commas, inside square brackets:"
   ]
  },
  {
   "cell_type": "code",
   "execution_count": 113,
   "metadata": {
    "collapsed": true
   },
   "outputs": [],
   "source": [
    "shopping_list = ['funions', 'ice cream', 'guacamole']"
   ]
  },
  {
   "cell_type": "markdown",
   "metadata": {},
   "source": [
    "We can change the individual values in a list using indexing:"
   ]
  },
  {
   "cell_type": "code",
   "execution_count": 112,
   "metadata": {},
   "outputs": [
    {
     "name": "stdout",
     "output_type": "stream",
     "text": [
      "['funyuns', 'ice cream', 'guacamole']\n"
     ]
    }
   ],
   "source": [
    "shopping_list[0] = 'funyuns' # oops\n",
    "print shopping_list"
   ]
  },
  {
   "cell_type": "markdown",
   "metadata": {},
   "source": [
    "There are many ways to change the contents of lists besides assigning new values to individual elements:"
   ]
  },
  {
   "cell_type": "code",
   "execution_count": 103,
   "metadata": {},
   "outputs": [
    {
     "name": "stdout",
     "output_type": "stream",
     "text": [
      "['funyuns', 'ice cream', 'guacamole', 'tortilla chips']\n"
     ]
    }
   ],
   "source": [
    "shopping_list.append('tortilla chips') # add one item\n",
    "print shopping_list"
   ]
  },
  {
   "cell_type": "code",
   "execution_count": 104,
   "metadata": {},
   "outputs": [
    {
     "name": "stdout",
     "output_type": "stream",
     "text": [
      "['ice cream', 'guacamole', 'tortilla chips']\n"
     ]
    }
   ],
   "source": [
    "del shopping_list[0] # delete the first item\n",
    "print shopping_list"
   ]
  },
  {
   "cell_type": "code",
   "execution_count": 105,
   "metadata": {},
   "outputs": [
    {
     "name": "stdout",
     "output_type": "stream",
     "text": [
      "['tortilla chips', 'guacamole', 'ice cream']\n"
     ]
    }
   ],
   "source": [
    "shopping_list.reverse() # reverse the order of the list (in place)\n",
    "print shopping_list"
   ]
  },
  {
   "cell_type": "markdown",
   "metadata": {},
   "source": [
    "### Tuples\n",
    "\n",
    "Like lists, **tuples** are simply sequences of objects. Tuples are created by putting values, separated by commas, inside parenthesis:"
   ]
  },
  {
   "cell_type": "code",
   "execution_count": 12,
   "metadata": {},
   "outputs": [
    {
     "name": "stdout",
     "output_type": "stream",
     "text": [
      "<type 'tuple'>\n"
     ]
    }
   ],
   "source": [
    "things = ('toy cars', 42, 'elephant')\n",
    "print type(things)"
   ]
  },
  {
   "cell_type": "markdown",
   "metadata": {},
   "source": [
    "#test\n",
    "\n",
    "- When we write down a large integer, it's customary to use commas (or periods, depending on the country) to separate the number into groups of three digits. It's easier for humans to read a large number with separators but Python sees them as something else. What type of object is this?\n",
    "\n",
    "my_account_balance = 15,752,000,000\n",
    "\n",
    "#solution"
   ]
  },
  {
   "cell_type": "code",
   "execution_count": 14,
   "metadata": {},
   "outputs": [
    {
     "data": {
      "text/plain": [
       "tuple"
      ]
     },
     "execution_count": 14,
     "metadata": {},
     "output_type": "execute_result"
    }
   ],
   "source": [
    "my_account_balance = 15,752,000,000\n",
    "\n",
    "type(my_account_balance)"
   ]
  },
  {
   "cell_type": "markdown",
   "metadata": {},
   "source": [
    "#test\n",
    "\n",
    "- Create a tuple that contains only one value. Confirm that it's really a tuple. You might have to experiment!\n",
    "\n",
    "Hint: Start with a tuple with two values and simplify it.\n",
    "\n",
    "#solution"
   ]
  },
  {
   "cell_type": "code",
   "execution_count": 15,
   "metadata": {},
   "outputs": [
    {
     "data": {
      "text/plain": [
       "tuple"
      ]
     },
     "execution_count": 15,
     "metadata": {},
     "output_type": "execute_result"
    }
   ],
   "source": [
    "lil_tuple = 1,\n",
    "\n",
    "type(lil_tuple)"
   ]
  },
  {
   "cell_type": "markdown",
   "metadata": {},
   "source": [
    "There is one very important difference between lists and tuples: lists can be modified while tuples cannot.\n",
    "\n",
    "#callout\n",
    "## Ch-ch-changes\n",
    "\n",
    "Data which can be modified in place is called **mutable**, while data which cannot be modified is called **immutable**. Strings, numbers and tuples are immutable. This does not mean that variable names assigned to these objects will forever be assigned to those objects! If we want to change the value of a string, number, or tuple, we do it by re-assigning the variable name to a completely new object in memory."
   ]
  },
  {
   "cell_type": "code",
   "execution_count": 133,
   "metadata": {},
   "outputs": [
    {
     "name": "stdout",
     "output_type": "stream",
     "text": [
      "i\n"
     ]
    },
    {
     "ename": "TypeError",
     "evalue": "'str' object does not support item assignment",
     "output_type": "error",
     "traceback": [
      "\u001b[0;31m---------------------------------------------------------------------------\u001b[0m",
      "\u001b[0;31mTypeError\u001b[0m                                 Traceback (most recent call last)",
      "\u001b[0;32m<ipython-input-133-936dce908564>\u001b[0m in \u001b[0;36m<module>\u001b[0;34m()\u001b[0m\n\u001b[1;32m      2\u001b[0m \u001b[0;32mprint\u001b[0m \u001b[0mfav_animal\u001b[0m\u001b[0;34m[\u001b[0m\u001b[0;36m3\u001b[0m\u001b[0;34m]\u001b[0m\u001b[0;34m\u001b[0m\u001b[0m\n\u001b[1;32m      3\u001b[0m \u001b[0;34m\u001b[0m\u001b[0m\n\u001b[0;32m----> 4\u001b[0;31m \u001b[0mfav_animal\u001b[0m\u001b[0;34m[\u001b[0m\u001b[0;36m3\u001b[0m\u001b[0;34m]\u001b[0m \u001b[0;34m=\u001b[0m \u001b[0;34m'y'\u001b[0m \u001b[0;31m# change to capybara\u001b[0m\u001b[0;34m\u001b[0m\u001b[0m\n\u001b[0m",
      "\u001b[0;31mTypeError\u001b[0m: 'str' object does not support item assignment"
     ]
    }
   ],
   "source": [
    "fav_animal = 'capibara' # misspelled!\n",
    "print fav_animal[3]\n",
    "\n",
    "fav_animal[3] = 'y' # change to capybara"
   ]
  },
  {
   "cell_type": "code",
   "execution_count": 136,
   "metadata": {},
   "outputs": [
    {
     "name": "stdout",
     "output_type": "stream",
     "text": [
      "Old object: capibara\n",
      "New object: capybara\n"
     ]
    }
   ],
   "source": [
    "fav_animal2 = fav_animal # both variable names point to same object\n",
    "\n",
    "fav_animal2 = 'capybara' # re-assign variable name to new object\n",
    "\n",
    "print 'Old object:', fav_animal\n",
    "print 'New object:', fav_animal2"
   ]
  },
  {
   "cell_type": "code",
   "execution_count": 137,
   "metadata": {
    "collapsed": true
   },
   "outputs": [],
   "source": [
    "text = \"Your Mother was a Hamster, and your Father smelt of Elderberries!\""
   ]
  },
  {
   "cell_type": "code",
   "execution_count": 142,
   "metadata": {},
   "outputs": [
    {
     "data": {
      "text/plain": [
       "'!ererdEf lm etFro n rtmHaswrho uY'"
      ]
     },
     "execution_count": 142,
     "metadata": {},
     "output_type": "execute_result"
    }
   ],
   "source": [
    "text[-1:-len(text)-1:-2]"
   ]
  },
  {
   "cell_type": "markdown",
   "metadata": {},
   "source": [
    "Lists and numpy arrays, on the other hand, are mutable objects: we can modify them in place after they have been created. We can change individual elements, append new elements, or reorder the whole list. For operations like sorting, we can choose whether to use a function that modifies the data in place or a function that leaves the original object unchanged and creates a new, modified object with a new variable name.\n",
    "\n",
    "Be careful when modifying data in place. **If two variables refer to the same list and you modify a value in the list, it will change the contents of the list for both variables.** If you want to have two variables refer to independent versions of the same mutable object, you must make a copy of the object when you assign it to the new variable name.\n",
    "\n",
    "Consider the relationship between variable names and objects in this script:"
   ]
  },
  {
   "cell_type": "code",
   "execution_count": 85,
   "metadata": {},
   "outputs": [
    {
     "name": "stdout",
     "output_type": "stream",
     "text": [
      "Mild salsa: ['jalapenos', 'onions', 'cilantro', 'tomatoes']\n",
      "Hot salsa: ['jalapenos', 'onions', 'cilantro', 'tomatoes']\n"
     ]
    }
   ],
   "source": [
    "mildSalsa = ['peppers', 'onions', 'cilantro', 'tomatoes']\n",
    "hotSalsa = mildSalsa # both salsas point to the same object\n",
    "\n",
    "hotSalsa[0] = 'jalapenos' # change the recipe for hot salsa\n",
    "\n",
    "print 'Mild salsa:', mildSalsa\n",
    "print 'Hot salsa:', hotSalsa"
   ]
  },
  {
   "cell_type": "markdown",
   "metadata": {},
   "source": [
    "Because both variable names <code>mildSalsa</code> and <code>hotSalsa</code> point to the same mutable object, changing the recipe for one also changed the recipe for the other.\n",
    "\n",
    "If we want variables with mutable values to be independent, we must make a copy of the object:"
   ]
  },
  {
   "cell_type": "code",
   "execution_count": 84,
   "metadata": {},
   "outputs": [
    {
     "name": "stdout",
     "output_type": "stream",
     "text": [
      "Mild salsa: ['peppers', 'onions', 'cilantro', 'tomatoes']\n",
      "Hot salsa: ['jalapenos', 'onions', 'cilantro', 'tomatoes']\n"
     ]
    }
   ],
   "source": [
    "mildSalsa = ['peppers', 'onions', 'cilantro', 'tomatoes']\n",
    "hotSalsa = list(mildSalsa) # make a **copy** of the list\n",
    "\n",
    "hotSalsa[0] = 'jalapenos' # change the recipe for hot salsa\n",
    "\n",
    "print 'Mild salsa:', mildSalsa\n",
    "print 'Hot salsa:', hotSalsa"
   ]
  },
  {
   "cell_type": "markdown",
   "metadata": {},
   "source": [
    "Code that modifies data in place can be more difficult to understand (and therefore to debug). However, it is often far more efficient to modify a large data structure in place than to create a modified copy for every small change. You should consider both of these aspects when writing your code."
   ]
  },
  {
   "cell_type": "code",
   "execution_count": 175,
   "metadata": {},
   "outputs": [
    {
     "name": "stdout",
     "output_type": "stream",
     "text": [
      "'normal' division: 3.5\n",
      "after casting: 3\n"
     ]
    }
   ],
   "source": [
    "num_float = 7.0\n",
    "\n",
    "print \"'normal' division:\", num_float / 2\n",
    "print 'after casting:', int(num_float) / 2"
   ]
  },
  {
   "cell_type": "code",
   "execution_count": 232,
   "metadata": {},
   "outputs": [
    {
     "name": "stdout",
     "output_type": "stream",
     "text": [
      "if it's in caps i'm trying to yell!\n",
      "IF IT'S IN CAPS I'M TRYING TO YELL!\n",
      "['if', \"it's\", 'in', 'caps', \"i'm\", 'trying', 'to', 'YELL!']\n",
      "if it's in caps i'm trying to fix my keyboard!\n",
      "11\n",
      "20\n",
      "caps\n",
      "if/it's/in/caps/i'm/trying/to/YELL!\n"
     ]
    }
   ],
   "source": [
    "string = \"if it's in caps i'm trying to YELL!\"\n",
    "\n",
    "print string.lower()\n",
    "print string.upper()\n",
    "print string.split()\n",
    "print string.replace('YELL', 'fix my keyboard')\n",
    "\n",
    "print string.find('caps')\n",
    "\n",
    "print string[-1:-len(string)-1:-1].find('spac')\n",
    "print string[11:-20]\n",
    "\n",
    "print '/'.join(string.split())"
   ]
  },
  {
   "cell_type": "code",
   "execution_count": 303,
   "metadata": {},
   "outputs": [
    {
     "data": {
      "text/plain": [
       "False"
      ]
     },
     "execution_count": 303,
     "metadata": {},
     "output_type": "execute_result"
    }
   ],
   "source": [
    "from math import exp\n",
    "\n",
    "bool(2e-324)"
   ]
  },
  {
   "cell_type": "code",
   "execution_count": 172,
   "metadata": {},
   "outputs": [
    {
     "name": "stdout",
     "output_type": "stream",
     "text": [
      "['cheese', 'cheese', 'cheese'] <type 'list'>\n",
      "cheesecheesecheese <type 'str'>\n",
      "['cheese'] <type 'list'>\n",
      "cheese <type 'str'>\n"
     ]
    }
   ],
   "source": [
    "s1 = 3 * shopping_list[-1:]\n",
    "s2 = 3 * shopping_list[-1]\n",
    "\n",
    "print s1, type(s1)\n",
    "print s2, type(s2)\n",
    "\n",
    "print shopping_list[-1:], type(shopping_list[-1:])\n",
    "print shopping_list[-1], type(shopping_list[-1])"
   ]
  },
  {
   "cell_type": "code",
   "execution_count": 162,
   "metadata": {},
   "outputs": [
    {
     "name": "stdout",
     "output_type": "stream",
     "text": [
      "['tortilla chips', 'guacamole', 'ice cream', 'coffee', 'cheese']\n"
     ]
    }
   ],
   "source": [
    "shopping_list = ['tortilla chips', 'guacamole', 'ice cream']\n",
    "\n",
    "shopping_list = shopping_list + ['coffee', 'cheese']\n",
    "\n",
    "print shopping_list"
   ]
  },
  {
   "cell_type": "markdown",
   "metadata": {},
   "source": [
    "#callout\n",
    "## Object ID\n",
    "\n",
    "We can find the address of an object in memory with the function <code>id()</code>. This function returns the “identity” of an object: an integer which is guaranteed to be unique and constant for this object during its lifetime.\n",
    "\n",
    "Two variables names that point to the same mutable object will show the same ID."
   ]
  },
  {
   "cell_type": "code",
   "execution_count": 125,
   "metadata": {},
   "outputs": [
    {
     "name": "stdout",
     "output_type": "stream",
     "text": [
      "Variable 1 to mutable obj: 4548266248\n",
      "Variable 2 to mutable obj: 4548266248\n"
     ]
    }
   ],
   "source": [
    "mildSalsa = ['peppers', 'onions', 'cilantro', 'tomatoes']\n",
    "hotSalsa = mildSalsa\n",
    "\n",
    "print 'Variable 1 to mutable obj:', id(mildSalsa)\n",
    "print 'Variable 2 to mutable obj:', id(hotSalsa)"
   ]
  },
  {
   "cell_type": "markdown",
   "metadata": {},
   "source": [
    "When the second variable name is tied to an independing copy of the mutable object, the two variable names will have different IDs:"
   ]
  },
  {
   "cell_type": "code",
   "execution_count": 127,
   "metadata": {},
   "outputs": [
    {
     "name": "stdout",
     "output_type": "stream",
     "text": [
      "Original mutable obj: 4548266248\n",
      "Copied mutable obj: 4551753672\n"
     ]
    }
   ],
   "source": [
    "hotSalsa = list(mildSalsa)\n",
    "\n",
    "print 'Original mutable obj:', id(mildSalsa)\n",
    "print 'Copied mutable obj:', id(hotSalsa)"
   ]
  },
  {
   "cell_type": "markdown",
   "metadata": {},
   "source": [
    "## Non-continuous slices\n",
    "\n",
    "So far we’ve seen how to use slicing to take single blocks of successive entries from a sequence. But what if we want to take a subset of entries that aren’t next to each other in the sequence?\n",
    "\n",
    "You can achieve this by providing a third argument - the step size - to the index range within the brackets. The example below shows how you can take every third entry in a list:"
   ]
  },
  {
   "cell_type": "code",
   "execution_count": 107,
   "metadata": {},
   "outputs": [
    {
     "name": "stdout",
     "output_type": "stream",
     "text": [
      "Every third prime: [2, 7, 17, 29]\n"
     ]
    }
   ],
   "source": [
    "primes = [2, 3, 5, 7, 11, 13, 17, 19, 23, 29, 31, 37]\n",
    "subset = primes[0:12:3]\n",
    "\n",
    "print \"Every third prime:\", subset"
   ]
  },
  {
   "cell_type": "markdown",
   "metadata": {},
   "source": [
    "Notice that the slice taken begins with the first entry in the range, followed by entries taken at equally-spaced intervals (the steps) thereafter. If you wanted to begin the subset with the third entry, you would need to specify that as the starting point of the sliced range:"
   ]
  },
  {
   "cell_type": "markdown",
   "metadata": {},
   "source": [
    "#test\n",
    "\n",
    "Use the step size argument to create a new string that contains only every other character in the string \"Your Mother was a Hamster, and your Father smelt of Elderberries!\".\n",
    "\n",
    "#solution"
   ]
  },
  {
   "cell_type": "code",
   "execution_count": 110,
   "metadata": {
    "scrolled": false
   },
   "outputs": [
    {
     "name": "stdout",
     "output_type": "stream",
     "text": [
      "Yu ohrwsaHmtr n orFte ml fEdrere!\n"
     ]
    }
   ],
   "source": [
    "text = \"Your Mother was a Hamster, and your Father smelt of Elderberries!\"\n",
    "print text[::2]"
   ]
  },
  {
   "cell_type": "markdown",
   "metadata": {
    "collapsed": true
   },
   "source": [
    "## Mapping types\n",
    "\n",
    "### Dictionaries\n",
    "\n",
    "Because values in sequences are stored a known order, individual values in sequence-type objects can be accessed by position through integer indices. **Dictionaries** are a type of object where values are not stored in any particular order. Dictionaries are unordered collections of **key:value** pairs. They map (or match) keys, which can be any immutable type (strings, numbers, tuples), to values, which can be of any type (heterogeneous). Individual values in a dictionary are accessed by their keys.\n",
    "\n",
    "We create dictionaries with curly brackets and pairs of keys and values. An empty dictionary would simply have no key:value pairs inside the curly brackets:"
   ]
  },
  {
   "cell_type": "code",
   "execution_count": 108,
   "metadata": {},
   "outputs": [
    {
     "name": "stdout",
     "output_type": "stream",
     "text": [
      "Every third prime: [5, 13, 23, 37]\n"
     ]
    }
   ],
   "source": [
    "primes = [2, 3, 5, 7, 11, 13, 17, 19, 23, 29, 31, 37]\n",
    "subset = primes[2:12:3]\n",
    "\n",
    "print \"Every third prime:\", subset"
   ]
  },
  {
   "cell_type": "code",
   "execution_count": 16,
   "metadata": {},
   "outputs": [
    {
     "name": "stdout",
     "output_type": "stream",
     "text": [
      "{'age': 32, 'name': 'Jack'}\n"
     ]
    }
   ],
   "source": [
    "person = {'name':'Jack', 'age': 32}\n",
    "print person"
   ]
  },
  {
   "cell_type": "markdown",
   "metadata": {},
   "source": [
    "Notice that the order of the key:value pairs is different in the dictionary definition than in the output! Because values in a dictionary are not stored in a particular order, they take an arbitrary order when the dictionary is displayed.\n",
    "\n",
    "We can access and modify individual values in a dictionary with their keys:"
   ]
  },
  {
   "cell_type": "code",
   "execution_count": 17,
   "metadata": {},
   "outputs": [
    {
     "name": "stdout",
     "output_type": "stream",
     "text": [
      "{'age': 33, 'name': 'Jack'}\n"
     ]
    }
   ],
   "source": [
    "person['age'] = 33\n",
    "print person"
   ]
  },
  {
   "cell_type": "markdown",
   "metadata": {},
   "source": [
    "We can also use keys to add values to a previously defined dictionary:"
   ]
  },
  {
   "cell_type": "code",
   "execution_count": 18,
   "metadata": {},
   "outputs": [
    {
     "name": "stdout",
     "output_type": "stream",
     "text": [
      "{'age': 33, 'name': 'Jack', 'address': 'Downtown Boulder'}\n"
     ]
    }
   ],
   "source": [
    "person['address'] = 'Downtown Boulder'  \n",
    "print person"
   ]
  },
  {
   "cell_type": "markdown",
   "metadata": {},
   "source": [
    "#test\n",
    "\n",
    "- Create an empty dictionary called \"states\"\n",
    "- Add 3 items to the dictionary. Map state names (the keys) to their abbreviations (the values) (ex. 'Wyoming':'WY'). Pick easy ones!\n",
    "(You can use states from another country or look here: http://www.50states.com/abbreviations.htm)\n",
    "\n",
    "\n",
    "#solution"
   ]
  },
  {
   "cell_type": "code",
   "execution_count": 19,
   "metadata": {
    "collapsed": true
   },
   "outputs": [],
   "source": [
    "states = {}\n",
    "\n",
    "states['Colorado'] = 'CO'\n",
    "states['California'] = 'CA'\n",
    "states['Florida'] = 'FL'"
   ]
  },
  {
   "cell_type": "markdown",
   "metadata": {},
   "source": [
    "#test\n",
    "- Use a variable in place of a key to access values in your <code>states</code> dictionary. For example, if I set the variable to \"Wyoming\", the value should be \"WY\".\n",
    "\n",
    "\n",
    "#solution"
   ]
  },
  {
   "cell_type": "code",
   "execution_count": 20,
   "metadata": {},
   "outputs": [
    {
     "name": "stdout",
     "output_type": "stream",
     "text": [
      "CA\n"
     ]
    }
   ],
   "source": [
    "selected_state = 'California'\n",
    "\n",
    "print states[selected_state]"
   ]
  },
  {
   "cell_type": "markdown",
   "metadata": {},
   "source": [
    "#test\n",
    "\n",
    "- Create a dictionary called \"cities\" that contains 3 key:value pairs. The keys should be the state abbreviation in your <code>states</code> dictionary and the values should be the names of one city in each of those states state (ex. 'WY':'Laramie'). Don't start with an empty dictionary and add values to it -- initialize the dictionary with the all of the key:value pairs already in it.\n",
    "\n",
    "#solution"
   ]
  },
  {
   "cell_type": "code",
   "execution_count": 21,
   "metadata": {
    "collapsed": true
   },
   "outputs": [],
   "source": [
    "cities = {'CO':'Denver', 'FL':'Miami', 'CA':'San Francisco'}"
   ]
  },
  {
   "cell_type": "markdown",
   "metadata": {},
   "source": [
    "#challenge\n",
    "\n",
    "- Write a short script to fill in the blanks in this string for any state in your <code>states</code> dictionary.\n",
    "\n",
    "\\_\\_\\_\\_\\_\\_\\_\\_\\_\\_ is abbreviated \\_\\_\\_\\_ and has cities like \\_\\_\\_\\_\\_\\_\\_\\_\n",
    "\n",
    "- Refactor (rewrite, improve) your code so you only have to change one word in your script to change states.\n",
    "\n",
    "<br>\n",
    "\n",
    "Hints:\n",
    "- You can use '+' to concatenate strings\n",
    "- The values in one of your dictionaries are the keys in the the other dictionary\n",
    "\n",
    "#solution"
   ]
  },
  {
   "cell_type": "code",
   "execution_count": 22,
   "metadata": {},
   "outputs": [
    {
     "name": "stdout",
     "output_type": "stream",
     "text": [
      "Colorado is abbreviated CO and has cities like Denver\n"
     ]
    }
   ],
   "source": [
    "selected_state = 'Colorado'\n",
    "\n",
    "print selected_state + ' is abbreviated ' + states[selected_state] + ' and has cities like ' + cities[states[selected_state]]"
   ]
  },
  {
   "cell_type": "markdown",
   "metadata": {},
   "source": [
    "#callout\n",
    "## Converting between types\n",
    "\n",
    "Many Python functions are sensitive to the type of object they receive. For example, you cannot concatenate a string with an integer:"
   ]
  },
  {
   "cell_type": "code",
   "execution_count": 28,
   "metadata": {},
   "outputs": [
    {
     "ename": "TypeError",
     "evalue": "cannot concatenate 'str' and 'int' objects",
     "output_type": "error",
     "traceback": [
      "\u001b[0;31m---------------------------------------------------------------------------\u001b[0m",
      "\u001b[0;31mTypeError\u001b[0m                                 Traceback (most recent call last)",
      "\u001b[0;32m<ipython-input-28-253b33d26e7e>\u001b[0m in \u001b[0;36m<module>\u001b[0;34m()\u001b[0m\n\u001b[1;32m      1\u001b[0m \u001b[0mage\u001b[0m \u001b[0;34m=\u001b[0m \u001b[0;36m21\u001b[0m\u001b[0;34m\u001b[0m\u001b[0m\n\u001b[0;32m----> 2\u001b[0;31m \u001b[0msign\u001b[0m \u001b[0;34m=\u001b[0m \u001b[0;34m'You must be '\u001b[0m \u001b[0;34m+\u001b[0m \u001b[0mage\u001b[0m \u001b[0;34m+\u001b[0m \u001b[0;34m'-years-old to enter this bar'\u001b[0m\u001b[0;34m\u001b[0m\u001b[0m\n\u001b[0m\u001b[1;32m      3\u001b[0m \u001b[0;32mprint\u001b[0m \u001b[0msign\u001b[0m\u001b[0;34m\u001b[0m\u001b[0m\n",
      "\u001b[0;31mTypeError\u001b[0m: cannot concatenate 'str' and 'int' objects"
     ]
    }
   ],
   "source": [
    "age = 21\n",
    "sign = 'You must be ' + age + '-years-old to enter this bar'\n",
    "print sign"
   ]
  },
  {
   "cell_type": "markdown",
   "metadata": {},
   "source": [
    "You will often find yourself needing to convert one data type to another. This is called **casting**. Luckily, conversion functions are easy to remember: the type names double up as a conversion function:\n",
    "\n",
    "- <code>int()</code>: *strings*, *floats* -> *integers*\n",
    "- <code>float()</code>: *strings*, *integers* -> *floats*\n",
    "- <code>str()</code>: all types -> *strings*\n",
    "- <code>list()</code>: *strings*, *tuples*, *dictionaries* -> *lists*\n",
    "- <code>tuple()</code>: *strings*, *tuples* -> *dictionaries*\n"
   ]
  },
  {
   "cell_type": "markdown",
   "metadata": {},
   "source": [
    "#test\n",
    "## Variables in strings\n",
    "\n",
    "Fix the second line of the example above so it prints the text in <code>sign</code> correctly. Don't simply change the first line to <code>age = \"21\"</code>!\n",
    "\n",
    "#solution"
   ]
  },
  {
   "cell_type": "code",
   "execution_count": 30,
   "metadata": {},
   "outputs": [
    {
     "name": "stdout",
     "output_type": "stream",
     "text": [
      "You must be 21-years-old to enter this bar\n"
     ]
    }
   ],
   "source": [
    "age = 21\n",
    "sign = 'You must be ' + str(age) + '-years-old to enter this bar'\n",
    "print sign"
   ]
  },
  {
   "cell_type": "markdown",
   "metadata": {},
   "source": [
    "#test\n",
    "## Lemonade sales\n",
    "\n",
    "You get hired to work for a highly successful lemonade stand. Their database is managed by a 7-year-old. These are their sales reports for FY2017:"
   ]
  },
  {
   "cell_type": "code",
   "execution_count": 56,
   "metadata": {},
   "outputs": [],
   "source": [
    "sales_1q = [\"50.3\"] # thousand dollars\n",
    "sales_2q = 108.52\n",
    "sales_3q = 79\n",
    "sales_4q = \"82\""
   ]
  },
  {
   "cell_type": "markdown",
   "metadata": {},
   "source": [
    "- Calculate the total sales for FY2017\n",
    "\n",
    "#solution"
   ]
  },
  {
   "cell_type": "code",
   "execution_count": 64,
   "metadata": {},
   "outputs": [
    {
     "name": "stdout",
     "output_type": "stream",
     "text": [
      "Total lemonade sales: 319.82 thousand dollars\n"
     ]
    }
   ],
   "source": [
    "total_sales = float(sales_1q[0]) + sales_2q + sales_3q + float(sales_4q)\n",
    "print 'Total lemonade sales:', str(total_sales) + ' thousand dollars'"
   ]
  },
  {
   "cell_type": "markdown",
   "metadata": {},
   "source": [
    "#test\n",
    "## Aquarium inventory\n",
    "\n",
    "An aquarium has exhibits for these species:"
   ]
  },
  {
   "cell_type": "code",
   "execution_count": 65,
   "metadata": {
    "collapsed": true
   },
   "outputs": [],
   "source": [
    "sea_creatures = ['shark', 'cuttlefish', 'squid', 'mantis shrimp']"
   ]
  },
  {
   "cell_type": "markdown",
   "metadata": {},
   "source": [
    "- Convert this list to a tuple"
   ]
  },
  {
   "cell_type": "code",
   "execution_count": 77,
   "metadata": {},
   "outputs": [
    {
     "data": {
      "text/plain": [
       "['t', 'u', 'n', 'g', 's', 't', 'e', 'n']"
      ]
     },
     "execution_count": 77,
     "metadata": {},
     "output_type": "execute_result"
    }
   ],
   "source": [
    "element = 'tungsten'\n",
    "list(element)"
   ]
  },
  {
   "cell_type": "code",
   "execution_count": null,
   "metadata": {
    "collapsed": true
   },
   "outputs": [],
   "source": []
  }
 ],
 "metadata": {
  "anaconda-cloud": {},
  "kernelspec": {
   "display_name": "Python [default]",
   "language": "python",
   "name": "python2"
  },
  "language_info": {
   "codemirror_mode": {
    "name": "ipython",
    "version": 2
   },
   "file_extension": ".py",
   "mimetype": "text/x-python",
   "name": "python",
   "nbconvert_exporter": "python",
   "pygments_lexer": "ipython2",
   "version": "2.7.13"
  }
 },
 "nbformat": 4,
 "nbformat_minor": 2
}
